{
 "cells": [
  {
   "cell_type": "markdown",
   "id": "southeast-roberts",
   "metadata": {},
   "source": [
    "# Логика настройки Google Analytics для отслеживания заказов"
   ]
  },
  {
   "cell_type": "markdown",
   "id": "revised-interference",
   "metadata": {},
   "source": [
    "Для начала необходимо добавить на все страницы между тегами head и body следующий скрипт:"
   ]
  },
  {
   "cell_type": "markdown",
   "id": "trying-thirty",
   "metadata": {},
   "source": [
    "```javascript \n",
    "<script async src=\"https://www.googletagmanager.com/gtag/js?id=GA_MEASUREMENT_ID\"></script>\n",
    " <script>\n",
    "  window.dataLayer = window.dataLayer || [];\n",
    "  function gtag(){dataLayer.push(arguments);}\n",
    "  gtag('js', new Date());\n",
    "\n",
    "  gtag('config', 'GA_MEASUREMENT_ID');\n",
    "</script>\n",
    "```"
   ]
  },
  {
   "cell_type": "markdown",
   "id": "fluid-cannon",
   "metadata": {},
   "source": [
    "P.S. GA_MEASUREMENT_ID надо заменить на идентификатор ресурса Google аналитики"
   ]
  },
  {
   "cell_type": "markdown",
   "id": "pointed-elephant",
   "metadata": {},
   "source": [
    "Следующим шагом будет непосредственно добавление команд на отправку данных, далее пример команды из документации для отправки информации о том что пользователь авторизовался через google\n",
    "\n",
    "```javascript\n",
    "\n",
    "gtag('event', 'login', {'method': 'Google'});\n",
    "\n",
    "```"
   ]
  },
  {
   "cell_type": "markdown",
   "id": "interpreted-edwards",
   "metadata": {},
   "source": [
    "Здесь используется синтаксис: (КОМАНДА (это может быть событие, конфиг и тд. и тп.), НАЗВАНИЕ-СОБЫТИЯ, {ПАРАМЕТР: ЗНАЧЕНИЕ ПАРАМЕТРА})\n",
    "\n",
    "По такому механизму работает большинство способов отслеживания действий пользователя на сайте, в том числе и отслеживание покупок."
   ]
  },
  {
   "cell_type": "markdown",
   "id": "sweet-attention",
   "metadata": {},
   "source": [
    "Для примера, для того чтобы подключить отслеживание проданных товаров - мы должны после непосредственно совершения покупки товара выполнять следующий скрипт:\n",
    "\n",
    "```javascript\n",
    "\n",
    "gtag('event', 'purchase', {\n",
    "  \"transaction_id\": \"24.031608523954162\",\n",
    "  \"affiliation\": \"Google online store\",\n",
    "  \"value\": 23.07,\n",
    "  \"currency\": \"USD\",\n",
    "  \"tax\": 1.24,\n",
    "  \"shipping\": 0,\n",
    "  \"items\": [\n",
    "    {\n",
    "      \"id\": \"P12345\",\n",
    "      \"name\": \"Android Warhol T-Shirt\",\n",
    "      \"list_name\": \"Search Results\",\n",
    "      \"brand\": \"Google\",\n",
    "      \"category\": \"Apparel/T-Shirts\",\n",
    "      \"variant\": \"Black\",\n",
    "      \"list_position\": 1,\n",
    "      \"quantity\": 2,\n",
    "      \"price\": '2.0'\n",
    "    },\n",
    "    {\n",
    "      \"id\": \"P67890\",\n",
    "      \"name\": \"Flame challenge TShirt\",\n",
    "      \"list_name\": \"Search Results\",\n",
    "      \"brand\": \"MyBrand\",\n",
    "      \"category\": \"Apparel/T-Shirts\",\n",
    "      \"variant\": \"Red\",\n",
    "      \"list_position\": 2,\n",
    "      \"quantity\": 1,\n",
    "      \"price\": '3.0'\n",
    "    }\n",
    "  ]\n",
    "});\n",
    "\n",
    "\n",
    "```\n",
    "\n",
    "Опять же пример из документации, здесь мы после совершения целевого действия пользователем вызываем событие purchase и в теле скрипта передаём в google analytics информацию о транзакции, внутри которой массивом передаём информацию о купленных товарах"
   ]
  }
 ],
 "metadata": {
  "kernelspec": {
   "display_name": "Python 3",
   "language": "python",
   "name": "python3"
  },
  "language_info": {
   "codemirror_mode": {
    "name": "ipython",
    "version": 3
   },
   "file_extension": ".py",
   "mimetype": "text/x-python",
   "name": "python",
   "nbconvert_exporter": "python",
   "pygments_lexer": "ipython3",
   "version": "3.7.10"
  }
 },
 "nbformat": 4,
 "nbformat_minor": 5
}
