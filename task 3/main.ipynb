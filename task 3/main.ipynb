{
 "cells": [
  {
   "cell_type": "markdown",
   "metadata": {},
   "source": [
    "# Постройка диаграмм распределения "
   ]
  },
  {
   "cell_type": "code",
   "execution_count": 104,
   "metadata": {},
   "outputs": [
    {
     "name": "stdout",
     "output_type": "stream",
     "text": [
      "Done!\n"
     ]
    }
   ],
   "source": [
    "import pandas as pd\n",
    "import numpy as np\n",
    "import matplotlib.pyplot as plt\n",
    "import seaborn as sns; sns.set()\n",
    "\n",
    "print('Done!')"
   ]
  },
  {
   "cell_type": "code",
   "execution_count": 105,
   "metadata": {},
   "outputs": [
    {
     "data": {
      "text/html": [
       "<div>\n",
       "<style scoped>\n",
       "    .dataframe tbody tr th:only-of-type {\n",
       "        vertical-align: middle;\n",
       "    }\n",
       "\n",
       "    .dataframe tbody tr th {\n",
       "        vertical-align: top;\n",
       "    }\n",
       "\n",
       "    .dataframe thead th {\n",
       "        text-align: right;\n",
       "    }\n",
       "</style>\n",
       "<table border=\"1\" class=\"dataframe\">\n",
       "  <thead>\n",
       "    <tr style=\"text-align: right;\">\n",
       "      <th></th>\n",
       "      <th>Date</th>\n",
       "      <th>Category</th>\n",
       "      <th>Age</th>\n",
       "      <th>Gender</th>\n",
       "      <th>Sessions</th>\n",
       "      <th>Users</th>\n",
       "      <th>Goals</th>\n",
       "    </tr>\n",
       "  </thead>\n",
       "  <tbody>\n",
       "    <tr>\n",
       "      <th>0</th>\n",
       "      <td>2020-03-02</td>\n",
       "      <td>Prodazhi</td>\n",
       "      <td>25-34</td>\n",
       "      <td>female</td>\n",
       "      <td>22235</td>\n",
       "      <td>10504</td>\n",
       "      <td>185</td>\n",
       "    </tr>\n",
       "    <tr>\n",
       "      <th>1</th>\n",
       "      <td>2020-03-03</td>\n",
       "      <td>Prodazhi</td>\n",
       "      <td>25-34</td>\n",
       "      <td>female</td>\n",
       "      <td>20423</td>\n",
       "      <td>10425</td>\n",
       "      <td>181</td>\n",
       "    </tr>\n",
       "    <tr>\n",
       "      <th>2</th>\n",
       "      <td>2020-03-10</td>\n",
       "      <td>Prodazhi</td>\n",
       "      <td>25-34</td>\n",
       "      <td>female</td>\n",
       "      <td>19784</td>\n",
       "      <td>10167</td>\n",
       "      <td>205</td>\n",
       "    </tr>\n",
       "    <tr>\n",
       "      <th>3</th>\n",
       "      <td>2020-03-04</td>\n",
       "      <td>Prodazhi</td>\n",
       "      <td>25-34</td>\n",
       "      <td>female</td>\n",
       "      <td>19394</td>\n",
       "      <td>9917</td>\n",
       "      <td>174</td>\n",
       "    </tr>\n",
       "    <tr>\n",
       "      <th>4</th>\n",
       "      <td>2020-03-11</td>\n",
       "      <td>Prodazhi</td>\n",
       "      <td>25-34</td>\n",
       "      <td>female</td>\n",
       "      <td>18875</td>\n",
       "      <td>9813</td>\n",
       "      <td>214</td>\n",
       "    </tr>\n",
       "    <tr>\n",
       "      <th>5</th>\n",
       "      <td>2020-03-02</td>\n",
       "      <td>Buhgalterija-Upravlencheskij-uchet-Finansy-pre...</td>\n",
       "      <td>25-34</td>\n",
       "      <td>female</td>\n",
       "      <td>18187</td>\n",
       "      <td>8687</td>\n",
       "      <td>78</td>\n",
       "    </tr>\n",
       "    <tr>\n",
       "      <th>6</th>\n",
       "      <td>2020-03-05</td>\n",
       "      <td>Prodazhi</td>\n",
       "      <td>25-34</td>\n",
       "      <td>female</td>\n",
       "      <td>17747</td>\n",
       "      <td>9173</td>\n",
       "      <td>152</td>\n",
       "    </tr>\n",
       "    <tr>\n",
       "      <th>7</th>\n",
       "      <td>2020-03-02</td>\n",
       "      <td>Informacionnye-tehnologii-Internet-Telekom</td>\n",
       "      <td>25-34</td>\n",
       "      <td>male</td>\n",
       "      <td>17620</td>\n",
       "      <td>8735</td>\n",
       "      <td>85</td>\n",
       "    </tr>\n",
       "    <tr>\n",
       "      <th>8</th>\n",
       "      <td>2020-03-03</td>\n",
       "      <td>Informacionnye-tehnologii-Internet-Telekom</td>\n",
       "      <td>25-34</td>\n",
       "      <td>male</td>\n",
       "      <td>17532</td>\n",
       "      <td>8911</td>\n",
       "      <td>79</td>\n",
       "    </tr>\n",
       "    <tr>\n",
       "      <th>9</th>\n",
       "      <td>2020-03-23</td>\n",
       "      <td>Prodazhi</td>\n",
       "      <td>25-34</td>\n",
       "      <td>female</td>\n",
       "      <td>17330</td>\n",
       "      <td>8755</td>\n",
       "      <td>191</td>\n",
       "    </tr>\n",
       "  </tbody>\n",
       "</table>\n",
       "</div>"
      ],
      "text/plain": [
       "         Date                                           Category    Age  \\\n",
       "0  2020-03-02                                           Prodazhi  25-34   \n",
       "1  2020-03-03                                           Prodazhi  25-34   \n",
       "2  2020-03-10                                           Prodazhi  25-34   \n",
       "3  2020-03-04                                           Prodazhi  25-34   \n",
       "4  2020-03-11                                           Prodazhi  25-34   \n",
       "5  2020-03-02  Buhgalterija-Upravlencheskij-uchet-Finansy-pre...  25-34   \n",
       "6  2020-03-05                                           Prodazhi  25-34   \n",
       "7  2020-03-02         Informacionnye-tehnologii-Internet-Telekom  25-34   \n",
       "8  2020-03-03         Informacionnye-tehnologii-Internet-Telekom  25-34   \n",
       "9  2020-03-23                                           Prodazhi  25-34   \n",
       "\n",
       "   Gender  Sessions  Users  Goals  \n",
       "0  female     22235  10504    185  \n",
       "1  female     20423  10425    181  \n",
       "2  female     19784  10167    205  \n",
       "3  female     19394   9917    174  \n",
       "4  female     18875   9813    214  \n",
       "5  female     18187   8687     78  \n",
       "6  female     17747   9173    152  \n",
       "7    male     17620   8735     85  \n",
       "8    male     17532   8911     79  \n",
       "9  female     17330   8755    191  "
      ]
     },
     "metadata": {},
     "output_type": "display_data"
    }
   ],
   "source": [
    "data = pd.read_csv('../test data.csv')\n",
    "\n",
    "display(data.head(10))"
   ]
  },
  {
   "cell_type": "markdown",
   "metadata": {},
   "source": [
    "Судя по всему, в нашем распоряжении статистика посещений какого-то ресурса для создания резюме (hh?).\n",
    "\n",
    "На примере индексов 0, 5, 7 убеждаемся что статистика не сгруппирована по дням и на один день может быть несколько записей с различными значениями Category или Age.\n",
    "\n",
    "По условию задачи мы должны вывести графики распределения для начинающих карьеру студентов разделённых по полу, вопрос лишь в том - студент это категория, или возраст? Стоит проверить какие есть значения в Category"
   ]
  },
  {
   "cell_type": "code",
   "execution_count": 106,
   "metadata": {},
   "outputs": [
    {
     "data": {
      "text/plain": [
       "Juristy                                                     1092\n",
       "Marketing-Reklama-PR                                        1092\n",
       "Administrativnyj-personal                                   1092\n",
       "Vysshij-menedzhment                                         1092\n",
       "Nachalo-karery-Studenty                                     1092\n",
       "Proizvodstvo                                                1092\n",
       "Rabochij-personal                                           1092\n",
       "Transport-Logistika                                         1092\n",
       "Stroitelstvo-Nedvizhimost                                   1092\n",
       "Informacionnye-tehnologii-Internet-Telekom                  1092\n",
       "Prodazhi                                                    1092\n",
       "Medicina-Farmacevtika                                       1092\n",
       "Buhgalterija-Upravlencheskij-uchet-Finansy-predprijatija    1092\n",
       "Banki-Investicii-Lizing                                     1091\n",
       "Upravlenie-personalom-Treningi                              1091\n",
       "Iskusstvo-Razvlechenija-Mass-media                          1091\n",
       "Nauka-Obrazovanie                                           1091\n",
       "Turizm-Gostinicy-Restorany                                  1089\n",
       "Bezopasnost                                                 1088\n",
       "Zakupki                                                     1066\n",
       "Avtomobilnyj-biznes                                         1033\n",
       "Dobycha-Syrja                                               1030\n",
       "Gosudarstvennaja-sluzhba-nekommercheskie-organizacii        1001\n",
       "Domashnij-personal                                           957\n",
       "Konsultirovanie                                              921\n",
       "Sportivnye-kluby-fitnes-salony-krasoty                       917\n",
       "Installjacija-i-servis                                       597\n",
       "Strahovanie                                                  560\n",
       "Name: Category, dtype: int64"
      ]
     },
     "execution_count": 106,
     "metadata": {},
     "output_type": "execute_result"
    }
   ],
   "source": [
    "data['Category'].value_counts()"
   ]
  },
  {
   "cell_type": "markdown",
   "metadata": {},
   "source": [
    "Как мы видим у нас действительно есть категория Nachalo-karery-Studenty, значит в первую очередь надо сформировать подвыборку содержащую только записи об этой категории, а также заранее разделим на подвыборки мужчин и женщин"
   ]
  },
  {
   "cell_type": "code",
   "execution_count": 144,
   "metadata": {},
   "outputs": [
    {
     "data": {
      "text/html": [
       "<div>\n",
       "<style scoped>\n",
       "    .dataframe tbody tr th:only-of-type {\n",
       "        vertical-align: middle;\n",
       "    }\n",
       "\n",
       "    .dataframe tbody tr th {\n",
       "        vertical-align: top;\n",
       "    }\n",
       "\n",
       "    .dataframe thead th {\n",
       "        text-align: right;\n",
       "    }\n",
       "</style>\n",
       "<table border=\"1\" class=\"dataframe\">\n",
       "  <thead>\n",
       "    <tr style=\"text-align: right;\">\n",
       "      <th></th>\n",
       "      <th>Date</th>\n",
       "      <th>Category</th>\n",
       "      <th>Age</th>\n",
       "      <th>Gender</th>\n",
       "      <th>Sessions</th>\n",
       "      <th>Users</th>\n",
       "      <th>Goals</th>\n",
       "    </tr>\n",
       "  </thead>\n",
       "  <tbody>\n",
       "    <tr>\n",
       "      <th>162</th>\n",
       "      <td>2020-03-02</td>\n",
       "      <td>Nachalo-karery-Studenty</td>\n",
       "      <td>25-34</td>\n",
       "      <td>male</td>\n",
       "      <td>8180</td>\n",
       "      <td>4269</td>\n",
       "      <td>162</td>\n",
       "    </tr>\n",
       "    <tr>\n",
       "      <th>183</th>\n",
       "      <td>2020-03-03</td>\n",
       "      <td>Nachalo-karery-Studenty</td>\n",
       "      <td>25-34</td>\n",
       "      <td>male</td>\n",
       "      <td>7818</td>\n",
       "      <td>4312</td>\n",
       "      <td>192</td>\n",
       "    </tr>\n",
       "    <tr>\n",
       "      <th>203</th>\n",
       "      <td>2020-03-10</td>\n",
       "      <td>Nachalo-karery-Studenty</td>\n",
       "      <td>25-34</td>\n",
       "      <td>male</td>\n",
       "      <td>7427</td>\n",
       "      <td>4076</td>\n",
       "      <td>141</td>\n",
       "    </tr>\n",
       "    <tr>\n",
       "      <th>207</th>\n",
       "      <td>2020-03-04</td>\n",
       "      <td>Nachalo-karery-Studenty</td>\n",
       "      <td>25-34</td>\n",
       "      <td>male</td>\n",
       "      <td>7345</td>\n",
       "      <td>3966</td>\n",
       "      <td>153</td>\n",
       "    </tr>\n",
       "    <tr>\n",
       "      <th>213</th>\n",
       "      <td>2020-03-11</td>\n",
       "      <td>Nachalo-karery-Studenty</td>\n",
       "      <td>25-34</td>\n",
       "      <td>male</td>\n",
       "      <td>7196</td>\n",
       "      <td>3948</td>\n",
       "      <td>169</td>\n",
       "    </tr>\n",
       "  </tbody>\n",
       "</table>\n",
       "</div>"
      ],
      "text/plain": [
       "           Date                 Category    Age Gender  Sessions  Users  Goals\n",
       "162  2020-03-02  Nachalo-karery-Studenty  25-34   male      8180   4269    162\n",
       "183  2020-03-03  Nachalo-karery-Studenty  25-34   male      7818   4312    192\n",
       "203  2020-03-10  Nachalo-karery-Studenty  25-34   male      7427   4076    141\n",
       "207  2020-03-04  Nachalo-karery-Studenty  25-34   male      7345   3966    153\n",
       "213  2020-03-11  Nachalo-karery-Studenty  25-34   male      7196   3948    169"
      ]
     },
     "metadata": {},
     "output_type": "display_data"
    },
    {
     "data": {
      "text/html": [
       "<div>\n",
       "<style scoped>\n",
       "    .dataframe tbody tr th:only-of-type {\n",
       "        vertical-align: middle;\n",
       "    }\n",
       "\n",
       "    .dataframe tbody tr th {\n",
       "        vertical-align: top;\n",
       "    }\n",
       "\n",
       "    .dataframe thead th {\n",
       "        text-align: right;\n",
       "    }\n",
       "</style>\n",
       "<table border=\"1\" class=\"dataframe\">\n",
       "  <thead>\n",
       "    <tr style=\"text-align: right;\">\n",
       "      <th></th>\n",
       "      <th>Date</th>\n",
       "      <th>Category</th>\n",
       "      <th>Age</th>\n",
       "      <th>Gender</th>\n",
       "      <th>Sessions</th>\n",
       "      <th>Users</th>\n",
       "      <th>Goals</th>\n",
       "    </tr>\n",
       "  </thead>\n",
       "  <tbody>\n",
       "    <tr>\n",
       "      <th>132</th>\n",
       "      <td>2020-03-02</td>\n",
       "      <td>Nachalo-karery-Studenty</td>\n",
       "      <td>25-34</td>\n",
       "      <td>female</td>\n",
       "      <td>8805</td>\n",
       "      <td>4514</td>\n",
       "      <td>142</td>\n",
       "    </tr>\n",
       "    <tr>\n",
       "      <th>152</th>\n",
       "      <td>2020-03-10</td>\n",
       "      <td>Nachalo-karery-Studenty</td>\n",
       "      <td>25-34</td>\n",
       "      <td>female</td>\n",
       "      <td>8353</td>\n",
       "      <td>4607</td>\n",
       "      <td>182</td>\n",
       "    </tr>\n",
       "    <tr>\n",
       "      <th>159</th>\n",
       "      <td>2020-03-03</td>\n",
       "      <td>Nachalo-karery-Studenty</td>\n",
       "      <td>25-34</td>\n",
       "      <td>female</td>\n",
       "      <td>8206</td>\n",
       "      <td>4488</td>\n",
       "      <td>154</td>\n",
       "    </tr>\n",
       "    <tr>\n",
       "      <th>177</th>\n",
       "      <td>2020-03-04</td>\n",
       "      <td>Nachalo-karery-Studenty</td>\n",
       "      <td>25-34</td>\n",
       "      <td>female</td>\n",
       "      <td>7937</td>\n",
       "      <td>4337</td>\n",
       "      <td>122</td>\n",
       "    </tr>\n",
       "    <tr>\n",
       "      <th>182</th>\n",
       "      <td>2020-03-11</td>\n",
       "      <td>Nachalo-karery-Studenty</td>\n",
       "      <td>25-34</td>\n",
       "      <td>female</td>\n",
       "      <td>7878</td>\n",
       "      <td>4389</td>\n",
       "      <td>162</td>\n",
       "    </tr>\n",
       "  </tbody>\n",
       "</table>\n",
       "</div>"
      ],
      "text/plain": [
       "           Date                 Category    Age  Gender  Sessions  Users  \\\n",
       "132  2020-03-02  Nachalo-karery-Studenty  25-34  female      8805   4514   \n",
       "152  2020-03-10  Nachalo-karery-Studenty  25-34  female      8353   4607   \n",
       "159  2020-03-03  Nachalo-karery-Studenty  25-34  female      8206   4488   \n",
       "177  2020-03-04  Nachalo-karery-Studenty  25-34  female      7937   4337   \n",
       "182  2020-03-11  Nachalo-karery-Studenty  25-34  female      7878   4389   \n",
       "\n",
       "     Goals  \n",
       "132    142  \n",
       "152    182  \n",
       "159    154  \n",
       "177    122  \n",
       "182    162  "
      ]
     },
     "metadata": {},
     "output_type": "display_data"
    }
   ],
   "source": [
    "final_data = data.loc[data['Category'] == 'Nachalo-karery-Studenty']\n",
    "\n",
    "subsample_male = final_data.loc[final_data['Gender'] == 'male']\n",
    "subsample_female = final_data.loc[final_data['Gender'] == 'female']\n",
    "\n",
    "display(subsample_male.head())\n",
    "display(subsample_female.head())"
   ]
  },
  {
   "cell_type": "markdown",
   "metadata": {},
   "source": [
    "Посмотрим статистику и можно переходить непосредственно к просмотру распределений"
   ]
  },
  {
   "cell_type": "code",
   "execution_count": 145,
   "metadata": {},
   "outputs": [
    {
     "name": "stdout",
     "output_type": "stream",
     "text": [
      "count    546.000000\n",
      "mean      51.569597\n",
      "std       51.531052\n",
      "min        0.000000\n",
      "25%       11.000000\n",
      "50%       26.500000\n",
      "75%       82.750000\n",
      "max      217.000000\n",
      "Name: Goals, dtype: float64 \n",
      "\n",
      "count    546.000000\n",
      "mean      57.012821\n",
      "std       50.988052\n",
      "min        1.000000\n",
      "25%       16.000000\n",
      "50%       36.500000\n",
      "75%       89.000000\n",
      "max      220.000000\n",
      "Name: Goals, dtype: float64\n"
     ]
    }
   ],
   "source": [
    "print(subsample_male['Goals'].describe(), '\\n')\n",
    "print(subsample_female['Goals'].describe())"
   ]
  },
  {
   "cell_type": "markdown",
   "metadata": {},
   "source": [
    "Видим что не смотря на то что в начале у нас было по 120-180 созданий резюме в месяц - на деле, в 50% случаев их количество было меньше 32\n",
    "\n",
    "Теперь можно рисовать распределения, здесь снова используем final_data для наглядности результата"
   ]
  },
  {
   "cell_type": "code",
   "execution_count": 149,
   "metadata": {},
   "outputs": [
    {
     "data": {
      "image/png": "[encoded data removed]",
      "text/plain": [
       "<Figure size 864x432 with 1 Axes>"
      ]
     },
     "metadata": {},
     "output_type": "display_data"
    }
   ],
   "source": [
    "g = sns.displot(final_data, x=\"Goals\", bins=35, hue=\"Gender\")\n",
    "#plot settings\n",
    "g.axes.flatten()[0].set_title(\"График количества созданных резюме\")\n",
    "g.fig.set_figwidth(12)\n",
    "g.fig.set_figheight(6)"
   ]
  },
  {
   "cell_type": "markdown",
   "metadata": {},
   "source": [
    "Тут стоит пояснить что вообще в итоге получилось - график говорит нам о том, что чаще всего в день на ресурсе с которого взяты данные, в категории без опыта, создаётся 20-40 резюме (в зависимости от пола).\n",
    "\n",
    "Тем не менее, судя по графику - довольно часто резюме женщин больше чем резюме мужчин, об этом также говорит нам describe, медианное значение количества резюме для женщин скошено аж на 10 вправо.\n",
    "\n",
    "P.S. По заданию тут нужно было сделать 2 разных графика, но я осмелился отклониться так как если эти данные реализовать на одном графике получается намного нагляднее"
   ]
  },
  {
   "cell_type": "markdown",
   "metadata": {},
   "source": [
    "# Прогнозирование объёма трафика на следующий месяц"
   ]
  },
  {
   "cell_type": "markdown",
   "metadata": {},
   "source": [
    "У нас уже выгружены данные, поэтому можно не загружать заново, а работать с тем что уже есть"
   ]
  },
  {
   "cell_type": "code",
   "execution_count": 171,
   "metadata": {},
   "outputs": [
    {
     "data": {
      "text/html": [
       "<div>\n",
       "<style scoped>\n",
       "    .dataframe tbody tr th:only-of-type {\n",
       "        vertical-align: middle;\n",
       "    }\n",
       "\n",
       "    .dataframe tbody tr th {\n",
       "        vertical-align: top;\n",
       "    }\n",
       "\n",
       "    .dataframe thead th {\n",
       "        text-align: right;\n",
       "    }\n",
       "</style>\n",
       "<table border=\"1\" class=\"dataframe\">\n",
       "  <thead>\n",
       "    <tr style=\"text-align: right;\">\n",
       "      <th></th>\n",
       "      <th>Sessions</th>\n",
       "      <th>Users</th>\n",
       "      <th>Goals</th>\n",
       "    </tr>\n",
       "    <tr>\n",
       "      <th>Date</th>\n",
       "      <th></th>\n",
       "      <th></th>\n",
       "      <th></th>\n",
       "    </tr>\n",
       "  </thead>\n",
       "  <tbody>\n",
       "    <tr>\n",
       "      <th>2020-03-01</th>\n",
       "      <td>868535</td>\n",
       "      <td>482177</td>\n",
       "      <td>6240</td>\n",
       "    </tr>\n",
       "    <tr>\n",
       "      <th>2020-04-01</th>\n",
       "      <td>259864</td>\n",
       "      <td>191035</td>\n",
       "      <td>5228</td>\n",
       "    </tr>\n",
       "    <tr>\n",
       "      <th>2020-05-01</th>\n",
       "      <td>271439</td>\n",
       "      <td>197740</td>\n",
       "      <td>5678</td>\n",
       "    </tr>\n",
       "  </tbody>\n",
       "</table>\n",
       "</div>"
      ],
      "text/plain": [
       "            Sessions   Users  Goals\n",
       "Date                               \n",
       "2020-03-01    868535  482177   6240\n",
       "2020-04-01    259864  191035   5228\n",
       "2020-05-01    271439  197740   5678"
      ]
     },
     "metadata": {},
     "output_type": "display_data"
    }
   ],
   "source": [
    "it_subsample = data.copy().loc[data['Category'] == 'Informacionnye-tehnologii-Internet-Telekom']\n",
    "it_subsample['Date'] = pd.to_datetime(it_subsample['Date'])\n",
    "\n",
    "data_month = it_subsample.set_index('Date').resample('MS').sum()\n",
    "\n",
    "display(data_month)"
   ]
  },
  {
   "cell_type": "markdown",
   "metadata": {},
   "source": [
    "Данных и признаков слишком мало чтобы применить машинное обучение, а жаль, я бы повыпендривался. \n",
    "\n",
    "Думаю тут можно обойтись взвешенным средним, так как использовать признаки Users и Goals нет смысла так как они не являются фактически наблюдаемыми и в рамках временного ряда становятся нам известны либо одновременно с сессиями, либо позже."
   ]
  },
  {
   "cell_type": "code",
   "execution_count": 187,
   "metadata": {},
   "outputs": [
    {
     "name": "stdout",
     "output_type": "stream",
     "text": [
      "Количество сессий на следующий месяц на основе взвешенного среднего: 387385\n"
     ]
    }
   ],
   "source": [
    "def weighted_average(series, weights):\n",
    "    result = 0.0\n",
    "    weights.reverse()\n",
    "    for n in range(len(weights)):\n",
    "        result += series[-n-1] * weights[n]\n",
    "    return result\n",
    "\n",
    "print('Количество сессий на следующий месяц на основе взвешенного среднего:', int(weighted_average(data_month.Sessions, [0.2, 0.3, 0.5])))"
   ]
  },
  {
   "cell_type": "markdown",
   "metadata": {},
   "source": [
    "Для более качественного прогноза в первую очередь нужно количественно больше данных: это позволило бы нам определить есть ли сезонность и применить её для прогнозирования, а также позволило бы сгенерировать новые признаки такие как лаг или скользящее среднее.\n",
    "\n",
    "Однозначно хотелось бы больше признаков, скажем, может быть: количество активных рекламных компаний (их бюджет?), количество обращений в тех. поддержку, "
   ]
  }
 ],
 "metadata": {
  "kernelspec": {
   "display_name": "Python 3",
   "language": "python",
   "name": "python3"
  },
  "language_info": {
   "codemirror_mode": {
    "name": "ipython",
    "version": 3
   },
   "file_extension": ".py",
   "mimetype": "text/x-python",
   "name": "python",
   "nbconvert_exporter": "python",
   "pygments_lexer": "ipython3",
   "version": "3.7.10"
  }
 },
 "nbformat": 4,
 "nbformat_minor": 4
}
